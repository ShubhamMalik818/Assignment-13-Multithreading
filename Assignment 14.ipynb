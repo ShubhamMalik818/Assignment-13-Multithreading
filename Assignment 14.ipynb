{
 "cells": [
  {
   "cell_type": "code",
   "execution_count": null,
   "id": "b0c00598-9b31-470a-857d-bfa601cdd2f3",
   "metadata": {},
   "outputs": [],
   "source": [
    "1. What is multithreading in python? hy is it used? Name the module used to handle threads in python."
   ]
  },
  {
   "cell_type": "code",
   "execution_count": null,
   "id": "aa435e91-68fa-4fd5-9560-3f4bb2294095",
   "metadata": {},
   "outputs": [],
   "source": [
    "ANS- Multithreading in Python refers to the ability of a program to execute multiple threads or tasks concurrently within \n",
    "     a single process. A thread is a separate path of execution within a program, and by using multiple threads, a program can \n",
    "     execute multiple tasks simultaneously, which can improve overall performance and efficiency.\n",
    "\n",
    "    Multithreading is used in Python to perform tasks in parallel that are CPU-intensive, or tasks that require waiting for I/O, \n",
    "    such as network requests or reading and writing files. By using threads, the program can make better use of available system resources \n",
    "    and reduce the time it takes to complete tasks.\n",
    "\n",
    "    Python has a built-in module called \"threading\" that provides a way to create and manage threads in a Python program. \n",
    "    This module allows developers to create new threads, start and stop threads, synchronize threads, and communicate between threads. \n",
    "    The threading module provides a simple and easy-to-use API for creating and managing threads in a Python program."
   ]
  },
  {
   "cell_type": "code",
   "execution_count": null,
   "id": "e31e328b-9f68-4ca6-9c6f-d46869ab37b7",
   "metadata": {},
   "outputs": [],
   "source": [
    "2. Why threading module used? Write the use of the following functions\n",
    "   1. activeCount()\n",
    "    2. currentThread()\n",
    "    3. enumerate()"
   ]
  },
  {
   "cell_type": "code",
   "execution_count": null,
   "id": "9566c36a-50af-4589-a371-919f6faeafea",
   "metadata": {},
   "outputs": [],
   "source": [
    "ANS- The threading module is used in Python to implement multithreading in a program. It provides an easy-to-use interface for \n",
    "     creating and managing threads in a program.\n",
    "\n",
    "Here are the uses of the following functions provided by the threading module:\n",
    "\n",
    "    1.activeCount(): This function returns the number of thread objects that are currently active in the program. \n",
    "                     This can be useful for monitoring the number of threads running in a program and for debugging purposes.\n",
    "\n",
    "    2.currentThread(): This function returns a reference to the current thread object that is executing the code. \n",
    "                       This can be useful for identifying the current thread and for debugging purposes.\n",
    "\n",
    "    3.enumerate(): This function returns a list of all the active Thread objects in the program. \n",
    "                   This can be useful for identifying all the threads currently running in the program and for monitoring their progress. \n",
    "                   It can also be used to loop over all the active threads and perform operations on them, such as stopping or joining them."
   ]
  },
  {
   "cell_type": "code",
   "execution_count": null,
   "id": "6b007bde-42f4-45c9-b4cc-29f71500e38b",
   "metadata": {},
   "outputs": [],
   "source": [
    "3. Explain the following functions:\n",
    "    1. run()\n",
    "    2. start()\n",
    "     3. join()\n",
    "    4. isAlive()"
   ]
  },
  {
   "cell_type": "code",
   "execution_count": null,
   "id": "90813f73-46fd-4454-bd8f-6b09370a0e8a",
   "metadata": {},
   "outputs": [],
   "source": [
    "ANS- 1.run(): \n",
    "       This method is called when a thread starts executing, and it contains the code that the thread will run. By default, \n",
    "        this method does nothing, but it can be overridden in a subclass to specify the code that the thread will execute.\n",
    "\n",
    "    2.start(): \n",
    "        This method is used to start a thread's activity. \n",
    "        It creates a new thread and then calls the thread's run() method. \n",
    "        The thread will continue to execute until its run() method returns, or until it is interrupted by another thread.\n",
    "\n",
    "    3.join(): \n",
    "        This method blocks the calling thread until the thread on which it is called has completed execution. \n",
    "        In other words, it waits for the thread to finish its work before the calling thread continues. \n",
    "        If the thread has already finished, then the join() method returns immediately.\n",
    "\n",
    "    4.isAlive(): \n",
    "        This method returns a Boolean value indicating whether the thread is currently executing or not. If the thread is still running, \n",
    "        then this method returns True, otherwise it returns False. This method can be used to check the status of a thread and to \n",
    "        determine whether it has finished executing or not."
   ]
  },
  {
   "cell_type": "code",
   "execution_count": null,
   "id": "aca5543b-7982-4bad-8df7-f8eecd6ada94",
   "metadata": {},
   "outputs": [],
   "source": [
    "4. Write a python program to create two threads. Thread one must print the list of squares and thread two must print the list of cubes"
   ]
  },
  {
   "cell_type": "code",
   "execution_count": 1,
   "id": "b1140947-922b-4e89-aa9b-04d795e55404",
   "metadata": {},
   "outputs": [
    {
     "name": "stdout",
     "output_type": "stream",
     "text": [
      "Square of 1 is 1\n",
      "Square of 2 is 4\n",
      "Square of 3 is 9\n",
      "Square of 4 is 16\n",
      "Square of 5 is 25\n",
      "Square of 6 is 36\n",
      "Square of 7 is 49\n",
      "Square of 8 is 64\n",
      "Square of 9 is 81\n",
      "Square of 10 is 100\n",
      "Cube of 1 is 1\n",
      "Cube of 2 is 8\n",
      "Cube of 3 is 27\n",
      "Cube of 4 is 64\n",
      "Cube of 5 is 125\n",
      "Cube of 6 is 216\n",
      "Cube of 7 is 343\n",
      "Cube of 8 is 512\n",
      "Cube of 9 is 729\n",
      "Cube of 10 is 1000\n"
     ]
    }
   ],
   "source": [
    "import threading\n",
    "\n",
    "def print_squares():\n",
    "    for i in range(1, 11):\n",
    "        print(f\"Square of {i} is {i*i}\")\n",
    "\n",
    "def print_cubes():\n",
    "    for i in range(1, 11):\n",
    "        print(f\"Cube of {i} is {i*i*i}\")\n",
    "\n",
    "t1 = threading.Thread(target=print_squares)\n",
    "t2 = threading.Thread(target=print_cubes)\n",
    "\n",
    "t1.start()\n",
    "t2.start()\n",
    "\n",
    "t1.join()\n",
    "t2.join()\n"
   ]
  },
  {
   "cell_type": "code",
   "execution_count": null,
   "id": "5e59117b-82a0-4239-910b-20eb0c62c390",
   "metadata": {},
   "outputs": [],
   "source": [
    "5.State advantages and disadvantages of multithreading"
   ]
  },
  {
   "cell_type": "code",
   "execution_count": null,
   "id": "1c4ea54c-356f-48f0-80db-4f600ff45184",
   "metadata": {},
   "outputs": [],
   "source": [
    "ANS- Multithreading has several advantages and disadvantages. Here are some of them:\n",
    "\n",
    "Advantages:\n",
    "\n",
    "1. Improved performance: Multithreading can improve the performance of applications by allowing multiple tasks to run concurrently \n",
    "                         on multiple CPU cores or processors.\n",
    "\n",
    "2. Responsiveness: Multithreading can improve the responsiveness of an application by allowing the user interface to remain \n",
    "                   responsive while other tasks are running in the background.\n",
    "\n",
    "3. Resource sharing: Multithreading can enable efficient sharing of resources between threads, such as memory or files, \n",
    "                     without the need for expensive synchronization mechanisms.\n",
    "\n",
    "4. Simplicity: Multithreading can simplify the development of complex applications by allowing developers to break down a \n",
    "               complex task into smaller, more manageable threads.\n",
    "\n",
    "5. Scalability: Multithreading can improve the scalability of an application by allowing it to take advantage of additional \n",
    "                hardware resources as they become available.\n",
    "\n",
    "    \n",
    "\n",
    "Disadvantages:\n",
    "\n",
    "1. Synchronization: Multithreading requires careful synchronization to ensure that multiple threads do not access the same \n",
    "                    resources simultaneously, which can lead to data corruption or other issues.\n",
    "\n",
    "2. Complexity: Multithreading can increase the complexity of an application, making it harder to develop and maintain.\n",
    "\n",
    "3. Overhead: Multithreading can introduce overhead, such as the need to create and manage multiple threads, which can reduce performance.\n",
    "\n",
    "4. Deadlocks: Multithreading can lead to deadlocks, where two or more threads are blocked and unable to proceed because they are waiting \n",
    "              for each other to release resources.\n",
    "\n",
    "5. Debugging: Multithreaded applications can be more difficult to debug, since issues may be caused by the interactions between multiple threads, \n",
    "              rather than by a single thread."
   ]
  },
  {
   "cell_type": "code",
   "execution_count": null,
   "id": "26a451fb-a093-40e1-88e6-3f45d185bfd0",
   "metadata": {},
   "outputs": [],
   "source": [
    "6. Explain deadlocks and race conditions."
   ]
  },
  {
   "cell_type": "code",
   "execution_count": null,
   "id": "d0294552-3587-42d5-afea-063e294257e1",
   "metadata": {},
   "outputs": [],
   "source": [
    "ANS- Deadlocks and race conditions are two common issues that can arise in multithreaded applications.\n",
    "\n",
    "Deadlocks:\n",
    "A deadlock is a situation where two or more threads are blocked and unable to proceed because they are waiting for each other \n",
    "to release resources. For example, if thread A holds a lock on resource X and is waiting for a lock on resource Y, \n",
    "while thread B holds a lock on resource Y and is waiting for a lock on resource X, then a deadlock will occur.\n",
    "\n",
    "Deadlocks can be difficult to diagnose and resolve, as they typically require careful analysis of the application code and \n",
    "the order in which resources are acquired and released. To avoid deadlocks, it is important to ensure that threads always acquire \n",
    "locks on resources in the same order, and to use timeouts and other mechanisms to detect and recover from deadlocks.\n",
    "\n",
    "Race conditions:\n",
    "A race condition occurs when two or more threads access shared resources in an unexpected or unpredictable order, leading to \n",
    "inconsistent or incorrect behavior. For example, if thread A and thread B both read a shared variable X, increment it, and then write the \n",
    "new value back to X, then the final value of X will depend on the order in which the threads execute their operations.\n",
    "\n",
    "Race conditions can be difficult to reproduce and debug, as they may only occur under specific timing or load conditions. \n",
    "To avoid race conditions, it is important to use synchronization mechanisms, such as locks or semaphores, to ensure that only one thread can \n",
    "access shared resources at a time. Additionally, it may be necessary to use atomic operations or other mechanisms to ensure that updates to \n",
    "shared variables are performed atomically and in the correct order.\n",
    "\n",
    "Overall, deadlocks and race conditions are two common issues that can arise in multithreaded applications, and they require careful management \n",
    "and design to avoid and resolve."
   ]
  },
  {
   "cell_type": "code",
   "execution_count": null,
   "id": "b2401bd4-6afb-4fe3-86f9-875525cccf0f",
   "metadata": {},
   "outputs": [],
   "source": []
  }
 ],
 "metadata": {
  "kernelspec": {
   "display_name": "Python 3 (ipykernel)",
   "language": "python",
   "name": "python3"
  },
  "language_info": {
   "codemirror_mode": {
    "name": "ipython",
    "version": 3
   },
   "file_extension": ".py",
   "mimetype": "text/x-python",
   "name": "python",
   "nbconvert_exporter": "python",
   "pygments_lexer": "ipython3",
   "version": "3.10.8"
  }
 },
 "nbformat": 4,
 "nbformat_minor": 5
}
